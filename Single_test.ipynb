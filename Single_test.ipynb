{
 "cells": [
  {
   "cell_type": "code",
   "execution_count": 2,
   "id": "56881a3b-8fa1-4ef8-94e8-ed40588954e2",
   "metadata": {},
   "outputs": [],
   "source": [
    "import pickle"
   ]
  },
  {
   "cell_type": "code",
   "execution_count": 4,
   "id": "fd3ef200-fef1-442e-bfac-1aaff3378953",
   "metadata": {},
   "outputs": [],
   "source": [
    "# Load the saved model\n",
    "with open('email_spam_detection_model', 'rb') as file:\n",
    "    model = pickle.load(file)\n",
    "\n",
    "# Load the saved vectorizer\n",
    "with open('tfidf_vectorizer.pkl', 'rb') as file:\n",
    "    vectorizer = pickle.load(file)"
   ]
  },
  {
   "cell_type": "code",
   "execution_count": 6,
   "id": "b51bf26e-1117-40e7-8a67-0cf7302f2a94",
   "metadata": {},
   "outputs": [
    {
     "name": "stdout",
     "output_type": "stream",
     "text": [
      "Message: Go until jurong point, crazy.. Available only in bugis n great world la e buffet... Cine there got amore wat...\n",
      "Prediction: Ham\n",
      "Probability of Spam: 0.0137\n"
     ]
    }
   ],
   "source": [
    "def predict_message(message, vectorizer, model):\n",
    "    # Ensure the message is a string\n",
    "    message = str(message)\n",
    "    # Transform the message using the trained vectorizer\n",
    "    message_tfidf = vectorizer.transform([message])\n",
    "    # Predict the label (0 for ham, 1 for spam)\n",
    "    prediction = model.predict(message_tfidf)[0]\n",
    "    # Get probability of spam\n",
    "    prob_spam = model.predict_proba(message_tfidf)[0][1]\n",
    "    # Return result\n",
    "    label = 'Spam' if prediction == 1 else 'Ham'\n",
    "    return label, prob_spam\n",
    "\n",
    "# Test a single message (replace with your own message)\n",
    "test_message = \"Go until jurong point, crazy.. Available only in bugis n great world la e buffet... Cine there got amore wat...\"\n",
    "label, prob_spam = predict_message(test_message, vectorizer, model)\n",
    "\n",
    "# Print the result\n",
    "print(f\"Message: {test_message}\")\n",
    "print(f\"Prediction: {label}\")\n",
    "print(f\"Probability of Spam: {prob_spam:.4f}\")"
   ]
  },
  {
   "cell_type": "code",
   "execution_count": null,
   "id": "c735c540-6fa5-4d54-8555-eb94a42a5194",
   "metadata": {},
   "outputs": [],
   "source": []
  }
 ],
 "metadata": {
  "kernelspec": {
   "display_name": "Python 3 (ipykernel)",
   "language": "python",
   "name": "python3"
  },
  "language_info": {
   "codemirror_mode": {
    "name": "ipython",
    "version": 3
   },
   "file_extension": ".py",
   "mimetype": "text/x-python",
   "name": "python",
   "nbconvert_exporter": "python",
   "pygments_lexer": "ipython3",
   "version": "3.13.5"
  }
 },
 "nbformat": 4,
 "nbformat_minor": 5
}
